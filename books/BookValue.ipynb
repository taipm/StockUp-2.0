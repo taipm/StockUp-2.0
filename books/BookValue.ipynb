{
 "cells": [
  {
   "cell_type": "code",
   "execution_count": 1,
   "metadata": {},
   "outputs": [],
   "source": [
    "#GET INTRADAY DATA\n",
    "import pandas as pd\n",
    "import numpy as np\n",
    "import datetime\n",
    "import seaborn as sn\n",
    "import matplotlib.pyplot as plt\n",
    "import ssl\n",
    "ssl._create_default_https_context = ssl._create_unverified_context\n",
    "\n",
    "def GetData_Intraday(symbol):\n",
    "  url = f'https://s.cafef.vn/Lich-su-giao-dich-{symbol}-6.chn#data'\n",
    "  data = pd.read_html(url)\n",
    "  return data\n",
    "\n",
    "def GetSticks_Intraday(symbol):\n",
    "  url = f'https://s.cafef.vn/Lich-su-giao-dich-{symbol}-6.chn#data'\n",
    "  data = pd.read_html(url)\n",
    "  \n",
    "  df_sticks = data[len(data)-1]\n",
    "  df_sticks = pd.DataFrame(df_sticks.values,columns=['Time','PriceX','Volume','Sum Volume','Percent'])\n",
    "\n",
    "  #Tách giá\n",
    "  df_sticks['Price'] = df_sticks['PriceX'].apply(lambda x: x.split(' ')[0])\n",
    "  df_sticks['Price']\n",
    "\n",
    "  df_sticks['%'] = df_sticks['PriceX'].apply(lambda x: x.split(' ')[2])\n",
    "  df_sticks['%'] = df_sticks['%'].apply(lambda x: x[1:len(x)-2])\n",
    "\n",
    "  del df_sticks['PriceX']\n",
    "\n",
    "  #cols = ['Volume','Sum Volume','Price','%','Percent']\n",
    "  cols = ['Volume','Sum Volume','Price','%']\n",
    "  df_sticks[cols] = df_sticks[cols].apply(pd.to_numeric, downcast='float', errors='coerce')\n",
    "\n",
    "\n",
    "\n",
    "  df_sticks['Time'] = df_sticks['Time'].apply(lambda x: datetime.datetime.today().strftime('%Y-%m-%d') + ' ' + str(x))\n",
    "  df_sticks['Time'] = df_sticks['Time'].astype(\"datetime64\")\n",
    "  df_sticks.set_index('Time')\n",
    "\n",
    "  df_sticks['Money'] = df_sticks['Price']*df_sticks['Volume']\n",
    "\n",
    "  return df_sticks\n",
    "\n",
    "def FindShark(symbol):\n",
    "  df = GetSticks_Intraday(symbol=symbol)\n",
    "  sum_money = np.sum(df['Money']) #.apply(lambda x: x.split(' ')[0])\n",
    "  df['Shark'] = df['Money'].apply(lambda x: True if x >= (sum_money*1)/100 else False)\n",
    "\n",
    "  df_view = df\n",
    "  df_view = df_view[df_view['Shark'] == True]\n",
    "  df_view['Money'] = df_view['Money'].apply(\"{0:,.2f}\".format)  \n",
    "  return df_view"
   ]
  },
  {
   "cell_type": "code",
   "execution_count": null,
   "metadata": {},
   "outputs": [],
   "source": [
    "#BOOK VALUE\n",
    "\n",
    "url = 'http://s.cafef.vn/hose/VND-cong-ty-co-phan-chung-khoan-vndirect.chn'"
   ]
  }
 ],
 "metadata": {
  "kernelspec": {
   "display_name": "Python 3.10.1 64-bit",
   "language": "python",
   "name": "python3"
  },
  "language_info": {
   "codemirror_mode": {
    "name": "ipython",
    "version": 3
   },
   "file_extension": ".py",
   "mimetype": "text/x-python",
   "name": "python",
   "nbconvert_exporter": "python",
   "pygments_lexer": "ipython3",
   "version": "3.10.1"
  },
  "orig_nbformat": 4,
  "vscode": {
   "interpreter": {
    "hash": "aee8b7b246df8f9039afb4144a1f6fd8d2ca17a180786b69acc140d282b71a49"
   }
  }
 },
 "nbformat": 4,
 "nbformat_minor": 2
}
