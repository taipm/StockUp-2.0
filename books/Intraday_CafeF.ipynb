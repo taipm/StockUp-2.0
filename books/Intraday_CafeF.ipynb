{
  "cells": [
    {
      "cell_type": "code",
      "execution_count": 1,
      "metadata": {
        "colab": {
          "base_uri": "https://localhost:8080/"
        },
        "id": "HPBrVivBaSwb",
        "outputId": "26885006-187c-4ffd-9bf1-83bf31810e31"
      },
      "outputs": [
        {
          "name": "stdout",
          "output_type": "stream",
          "text": [
            "zsh:1: /usr/local/bin/pip: bad interpreter: /System/Library/Frameworks/Python.framework/Versions/2.7/Resources/Python.app/Contents/MacOS/Python: no such file or directory\n",
            "Collecting pandas\n",
            "  Downloading pandas-1.4.3-cp39-cp39-macosx_11_0_arm64.whl (10.5 MB)\n",
            "\u001b[2K     \u001b[90m━━━━━━━━━━━━━━━━━━━━━━━━━━━━━━━━━━━━━━━━\u001b[0m \u001b[32m10.5/10.5 MB\u001b[0m \u001b[31m3.9 MB/s\u001b[0m eta \u001b[36m0:00:00\u001b[0m00:01\u001b[0m00:01\u001b[0m\n",
            "\u001b[?25hCollecting numpy>=1.20.0\n",
            "  Downloading numpy-1.23.1-cp39-cp39-macosx_11_0_arm64.whl (13.3 MB)\n",
            "\u001b[2K     \u001b[90m━━━━━━━━━━━━━━━━━━━━━━━━━━━━━━━━━━━━━━━━\u001b[0m \u001b[32m13.3/13.3 MB\u001b[0m \u001b[31m3.8 MB/s\u001b[0m eta \u001b[36m0:00:00\u001b[0m00:01\u001b[0m00:01\u001b[0m\n",
            "\u001b[?25hCollecting pytz>=2020.1\n",
            "  Downloading pytz-2022.1-py2.py3-none-any.whl (503 kB)\n",
            "\u001b[2K     \u001b[90m━━━━━━━━━━━━━━━━━━━━━━━━━━━━━━━━━━━━━━━\u001b[0m \u001b[32m503.5/503.5 kB\u001b[0m \u001b[31m3.8 MB/s\u001b[0m eta \u001b[36m0:00:00\u001b[0m00:01\u001b[0m00:01\u001b[0m\n",
            "\u001b[?25hCollecting python-dateutil>=2.8.1\n",
            "  Using cached python_dateutil-2.8.2-py2.py3-none-any.whl (247 kB)\n",
            "Requirement already satisfied: six>=1.5 in /Users/taipm/micromamba/lib/python3.9/site-packages (from python-dateutil>=2.8.1->pandas) (1.16.0)\n",
            "Installing collected packages: pytz, python-dateutil, numpy, pandas\n",
            "Successfully installed numpy-1.23.1 pandas-1.4.3 python-dateutil-2.8.2 pytz-2022.1\n",
            "zsh:1: /usr/local/bin/pip: bad interpreter: /System/Library/Frameworks/Python.framework/Versions/2.7/Resources/Python.app/Contents/MacOS/Python: no such file or directory\n",
            "Requirement already satisfied: numpy in /Users/taipm/micromamba/lib/python3.9/site-packages (1.23.1)\n",
            "zsh:1: /usr/local/bin/pip: bad interpreter: /System/Library/Frameworks/Python.framework/Versions/2.7/Resources/Python.app/Contents/MacOS/Python: no such file or directory\n",
            "Collecting matplotlib\n",
            "  Downloading matplotlib-3.5.2-cp39-cp39-macosx_11_0_arm64.whl (7.2 MB)\n",
            "\u001b[2K     \u001b[90m━━━━━━━━━━━━━━━━━━━━━━━━━━━━━━━━━━━━━━━━\u001b[0m \u001b[32m7.2/7.2 MB\u001b[0m \u001b[31m4.2 MB/s\u001b[0m eta \u001b[36m0:00:00\u001b[0m00:01\u001b[0m00:01\u001b[0m\n",
            "\u001b[?25hCollecting pyparsing>=2.2.1\n",
            "  Downloading pyparsing-3.0.9-py3-none-any.whl (98 kB)\n",
            "\u001b[2K     \u001b[90m━━━━━━━━━━━━━━━━━━━━━━━━━━━━━━━━━━━━━━━━\u001b[0m \u001b[32m98.3/98.3 kB\u001b[0m \u001b[31m2.0 MB/s\u001b[0m eta \u001b[36m0:00:00\u001b[0ma \u001b[36m0:00:01\u001b[0m\n",
            "\u001b[?25hCollecting cycler>=0.10\n",
            "  Downloading cycler-0.11.0-py3-none-any.whl (6.4 kB)\n",
            "Requirement already satisfied: python-dateutil>=2.7 in /Users/taipm/micromamba/lib/python3.9/site-packages (from matplotlib) (2.8.2)\n",
            "Collecting kiwisolver>=1.0.1\n",
            "  Downloading kiwisolver-1.4.4-cp39-cp39-macosx_11_0_arm64.whl (63 kB)\n",
            "\u001b[2K     \u001b[90m━━━━━━━━━━━━━━━━━━━━━━━━━━━━━━━━━━━━━━━━\u001b[0m \u001b[32m63.2/63.2 kB\u001b[0m \u001b[31m1.7 MB/s\u001b[0m eta \u001b[36m0:00:00\u001b[0m\n",
            "\u001b[?25hCollecting pillow>=6.2.0\n",
            "  Downloading Pillow-9.2.0-cp39-cp39-macosx_11_0_arm64.whl (2.8 MB)\n",
            "\u001b[2K     \u001b[90m━━━━━━━━━━━━━━━━━━━━━━━━━━━━━━━━━━━━━━━━\u001b[0m \u001b[32m2.8/2.8 MB\u001b[0m \u001b[31m2.9 MB/s\u001b[0m eta \u001b[36m0:00:00\u001b[0ma \u001b[36m0:00:01\u001b[0m\n",
            "\u001b[?25hCollecting fonttools>=4.22.0\n",
            "  Downloading fonttools-4.34.4-py3-none-any.whl (944 kB)\n",
            "\u001b[2K     \u001b[90m━━━━━━━━━━━━━━━━━━━━━━━━━━━━━━━━━━━━━━━\u001b[0m \u001b[32m944.1/944.1 kB\u001b[0m \u001b[31m3.3 MB/s\u001b[0m eta \u001b[36m0:00:00\u001b[0ma \u001b[36m0:00:01\u001b[0m\n",
            "\u001b[?25hRequirement already satisfied: numpy>=1.17 in /Users/taipm/micromamba/lib/python3.9/site-packages (from matplotlib) (1.23.1)\n",
            "Collecting packaging>=20.0\n",
            "  Using cached packaging-21.3-py3-none-any.whl (40 kB)\n",
            "Requirement already satisfied: six>=1.5 in /Users/taipm/micromamba/lib/python3.9/site-packages (from python-dateutil>=2.7->matplotlib) (1.16.0)\n",
            "Installing collected packages: pyparsing, pillow, kiwisolver, fonttools, cycler, packaging, matplotlib\n",
            "Successfully installed cycler-0.11.0 fonttools-4.34.4 kiwisolver-1.4.4 matplotlib-3.5.2 packaging-21.3 pillow-9.2.0 pyparsing-3.0.9\n",
            "zsh:1: /usr/local/bin/pip: bad interpreter: /System/Library/Frameworks/Python.framework/Versions/2.7/Resources/Python.app/Contents/MacOS/Python: no such file or directory\n",
            "Collecting seaborn\n",
            "  Using cached seaborn-0.11.2-py3-none-any.whl (292 kB)\n",
            "Collecting scipy>=1.0\n",
            "  Downloading scipy-1.9.0-cp39-cp39-macosx_12_0_arm64.whl (29.9 MB)\n",
            "\u001b[2K     \u001b[90m━━━━━━━━━━━━━━━━━━━━━━━━━━━━━━━━━━━━━━━━\u001b[0m \u001b[32m29.9/29.9 MB\u001b[0m \u001b[31m4.2 MB/s\u001b[0m eta \u001b[36m0:00:00\u001b[0m00:01\u001b[0m00:01\u001b[0m\n",
            "\u001b[?25hRequirement already satisfied: matplotlib>=2.2 in /Users/taipm/micromamba/lib/python3.9/site-packages (from seaborn) (3.5.2)\n",
            "Requirement already satisfied: pandas>=0.23 in /Users/taipm/micromamba/lib/python3.9/site-packages (from seaborn) (1.4.3)\n",
            "Requirement already satisfied: numpy>=1.15 in /Users/taipm/micromamba/lib/python3.9/site-packages (from seaborn) (1.23.1)\n",
            "Requirement already satisfied: python-dateutil>=2.7 in /Users/taipm/micromamba/lib/python3.9/site-packages (from matplotlib>=2.2->seaborn) (2.8.2)\n",
            "Requirement already satisfied: fonttools>=4.22.0 in /Users/taipm/micromamba/lib/python3.9/site-packages (from matplotlib>=2.2->seaborn) (4.34.4)\n",
            "Requirement already satisfied: pyparsing>=2.2.1 in /Users/taipm/micromamba/lib/python3.9/site-packages (from matplotlib>=2.2->seaborn) (3.0.9)\n",
            "Requirement already satisfied: pillow>=6.2.0 in /Users/taipm/micromamba/lib/python3.9/site-packages (from matplotlib>=2.2->seaborn) (9.2.0)\n",
            "Requirement already satisfied: cycler>=0.10 in /Users/taipm/micromamba/lib/python3.9/site-packages (from matplotlib>=2.2->seaborn) (0.11.0)\n",
            "Requirement already satisfied: packaging>=20.0 in /Users/taipm/micromamba/lib/python3.9/site-packages (from matplotlib>=2.2->seaborn) (21.3)\n",
            "Requirement already satisfied: kiwisolver>=1.0.1 in /Users/taipm/micromamba/lib/python3.9/site-packages (from matplotlib>=2.2->seaborn) (1.4.4)\n",
            "Requirement already satisfied: pytz>=2020.1 in /Users/taipm/micromamba/lib/python3.9/site-packages (from pandas>=0.23->seaborn) (2022.1)\n",
            "Requirement already satisfied: six>=1.5 in /Users/taipm/micromamba/lib/python3.9/site-packages (from python-dateutil>=2.7->matplotlib>=2.2->seaborn) (1.16.0)\n",
            "Installing collected packages: scipy, seaborn\n",
            "Successfully installed scipy-1.9.0 seaborn-0.11.2\n"
          ]
        }
      ],
      "source": [
        "# !pip install pandas\n",
        "# !pip install numpy\n",
        "# !pip install matplotlib\n",
        "# !pip install seaborn"
      ]
    },
    {
      "cell_type": "code",
      "execution_count": 5,
      "metadata": {
        "id": "Zya68pVqafwb"
      },
      "outputs": [],
      "source": [
        "#GET INTRADAY DATA\n",
        "import pandas as pd\n",
        "import numpy as np\n",
        "import datetime\n",
        "import seaborn as sn\n",
        "import matplotlib.pyplot as plt\n",
        "import ssl\n",
        "ssl._create_default_https_context = ssl._create_unverified_context\n",
        "\n",
        "def GetData_Intraday(symbol):\n",
        "  url = f'https://s.cafef.vn/Lich-su-giao-dich-{symbol}-6.chn#data'\n",
        "  data = pd.read_html(url)\n",
        "  return data\n",
        "\n",
        "def GetSticks_Intraday(symbol):\n",
        "  url = f'https://s.cafef.vn/Lich-su-giao-dich-{symbol}-6.chn#data'\n",
        "  data = pd.read_html(url)\n",
        "  \n",
        "  df_sticks = data[len(data)-1]\n",
        "  df_sticks = pd.DataFrame(df_sticks.values,columns=['Time','PriceX','Volume','Sum Volume','Percent'])\n",
        "\n",
        "  #Tách giá\n",
        "  df_sticks['Price'] = df_sticks['PriceX'].apply(lambda x: x.split(' ')[0])\n",
        "  df_sticks['Price']\n",
        "\n",
        "  df_sticks['%'] = df_sticks['PriceX'].apply(lambda x: x.split(' ')[2])\n",
        "  df_sticks['%'] = df_sticks['%'].apply(lambda x: x[1:len(x)-2])\n",
        "\n",
        "  del df_sticks['PriceX']\n",
        "\n",
        "  #cols = ['Volume','Sum Volume','Price','%','Percent']\n",
        "  cols = ['Volume','Sum Volume','Price','%']\n",
        "  df_sticks[cols] = df_sticks[cols].apply(pd.to_numeric, downcast='float', errors='coerce')\n",
        "\n",
        "\n",
        "\n",
        "  df_sticks['Time'] = df_sticks['Time'].apply(lambda x: datetime.datetime.today().strftime('%Y-%m-%d') + ' ' + str(x))\n",
        "  df_sticks['Time'] = df_sticks['Time'].astype(\"datetime64\")\n",
        "  df_sticks.set_index('Time')\n",
        "\n",
        "  df_sticks['Money'] = df_sticks['Price']*df_sticks['Volume']\n",
        "\n",
        "  return df_sticks\n",
        "\n",
        "def FindShark(symbol):\n",
        "  df = GetSticks_Intraday(symbol=symbol)\n",
        "  sum_money = np.sum(df['Money']) #.apply(lambda x: x.split(' ')[0])\n",
        "  df['Shark'] = df['Money'].apply(lambda x: True if x >= (sum_money*1)/100 else False)\n",
        "\n",
        "  df_view = df\n",
        "  df_view = df_view[df_view['Shark'] == True]\n",
        "  df_view['Money'] = df_view['Money'].apply(\"{0:,.2f}\".format)  \n",
        "  return df_view"
      ]
    },
    {
      "cell_type": "code",
      "execution_count": 6,
      "metadata": {},
      "outputs": [],
      "source": [
        "#GET INTRADAY DATA\n",
        "import pandas as pd\n",
        "import numpy as np\n",
        "import datetime\n",
        "import seaborn as sn\n",
        "import matplotlib.pyplot as plt\n",
        "import ssl\n",
        "ssl._create_default_https_context = ssl._create_unverified_context\n",
        "\n",
        "class Intraday:\n",
        "      \n",
        "      def __init__(self, symbol) -> None:\n",
        "            self.Symbol = symbol\n",
        "            self.Url = f'https://s.cafef.vn/Lich-su-giao-dich-{self.Symbol}-6.chn#data'\n",
        "            \n",
        "            self.data = pd.DataFrame()\n",
        "            self.df_sticks = pd.DataFrame()\n",
        "      \n",
        "      def LoadData(self):\n",
        "            data = pd.read_html(self.Url)\n",
        "            self.data = data\n",
        "            self.df_sticks = self.GetSticks()\n",
        "            \n",
        "      def GetSticks(self):\n",
        "            if (self.data == None):\n",
        "                  self.LoadData()\n",
        "                              \n",
        "            data = self.data\n",
        "            \n",
        "            df_sticks = data[len(data)-1]\n",
        "            df_sticks = pd.DataFrame(df_sticks.values,columns=['Time','PriceX','Volume','Sum Volume','Percent'])\n",
        "\n",
        "            #Tách giá\n",
        "            df_sticks['Price'] = df_sticks['PriceX'].apply(lambda x: x.split(' ')[0])\n",
        "            df_sticks['Price']\n",
        "\n",
        "            df_sticks['%'] = df_sticks['PriceX'].apply(lambda x: x.split(' ')[2])\n",
        "            df_sticks['%'] = df_sticks['%'].apply(lambda x: x[1:len(x)-2])\n",
        "\n",
        "            del df_sticks['PriceX']\n",
        "\n",
        "            #cols = ['Volume','Sum Volume','Price','%','Percent']\n",
        "            cols = ['Volume','Sum Volume','Price','%']\n",
        "            df_sticks[cols] = df_sticks[cols].apply(pd.to_numeric, downcast='float', errors='coerce')\n",
        "\n",
        "\n",
        "\n",
        "            df_sticks['Time'] = df_sticks['Time'].apply(lambda x: datetime.datetime.today().strftime('%Y-%m-%d') + ' ' + str(x))\n",
        "            df_sticks['Time'] = df_sticks['Time'].astype(\"datetime64\")\n",
        "            df_sticks.set_index('Time')\n",
        "\n",
        "            df_sticks['Money'] = df_sticks['Price']*df_sticks['Volume']\n",
        "\n",
        "            return df_sticks\n",
        "\n",
        "      def FindShark(self):\n",
        "            df = GetSticks_Intraday(symbol=self.Symbol)\n",
        "            sum_money = np.sum(df['Money']) #.apply(lambda x: x.split(' ')[0])\n",
        "            df['Shark'] = df['Money'].apply(lambda x: True if x >= (sum_money*1)/100 else False)\n",
        "\n",
        "            df_view = df\n",
        "            df_view = df_view[df_view['Shark'] == True]\n",
        "            df_view['Money'] = df_view['Money'].apply(\"{0:,.2f}\".format)  \n",
        "            return df_view\n",
        "      \n",
        "      def ExplainTalk(self):\n",
        "            max = np.max(self.df_sticks['Price'])\n",
        "            min = np.min(self.df_sticks['Price'])\n",
        "            \n",
        "            output = f'Giá cao nhất: {max} - Giá thấp nhất {min}'\n",
        "            return output\n",
        "      \n",
        "      def Draw_Chart_Sticks(self):            \n",
        "            plt.title(self.Symbol)\n",
        "            plt.plot(self.df_sticks['Time'],self.df_sticks[\"Price\"])\n",
        "            plt.legend()\n",
        "            plt.show()"
      ]
    },
    {
      "cell_type": "code",
      "execution_count": 7,
      "metadata": {},
      "outputs": [
        {
          "name": "stdout",
          "output_type": "stream",
          "text": [
            "                   Time  Volume  Sum Volume   Percent      Price     %  \\\n",
            "4   2022-08-01 13:50:22  2000.0    178420.0  1.12 (%)  52.599998 -0.57   \n",
            "108 2022-08-01 13:26:20  6120.0    161620.0  3.43 (%)  52.799999 -0.19   \n",
            "109 2022-08-01 13:25:44  2550.0    155500.0  1.43 (%)  52.900002  0.00   \n",
            "142 2022-08-01 13:18:01  2000.0    145100.0  1.12 (%)  53.000000  0.19   \n",
            "373 2022-08-01 10:36:52  2050.0    106460.0  1.15 (%)  52.599998 -0.57   \n",
            "447 2022-08-01 10:22:42  1990.0     91000.0  1.11 (%)  52.900002  0.00   \n",
            "593 2022-08-01 09:59:27  3700.0     57010.0  2.07 (%)  54.000000  2.08   \n",
            "665 2022-08-01 09:44:36  2000.0     40550.0  1.12 (%)  54.000000  2.08   \n",
            "677 2022-08-01 09:42:55  2000.0     37290.0  1.12 (%)  54.500000  3.02   \n",
            "699 2022-08-01 09:41:03  2000.0     32650.0  1.12 (%)  54.000000  2.08   \n",
            "707 2022-08-01 09:40:21  4000.0     30270.0  2.24 (%)  54.000000  2.08   \n",
            "710 2022-08-01 09:39:52  1930.0     26200.0  1.08 (%)  53.900002  1.89   \n",
            "726 2022-08-01 09:38:00  4760.0     22520.0  2.67 (%)  53.500000  1.13   \n",
            "844 2022-08-01 09:15:12  2560.0      2560.0  1.43 (%)  53.000000  0.19   \n",
            "\n",
            "          Money  Shark  \n",
            "4    105,200.00   True  \n",
            "108  323,136.00   True  \n",
            "109  134,895.00   True  \n",
            "142  106,000.00   True  \n",
            "373  107,830.00   True  \n",
            "447  105,271.00   True  \n",
            "593  199,800.00   True  \n",
            "665  108,000.00   True  \n",
            "677  109,000.00   True  \n",
            "699  108,000.00   True  \n",
            "707  216,000.00   True  \n",
            "710  104,027.00   True  \n",
            "726  254,660.00   True  \n",
            "844  135,680.00   True  \n"
          ]
        },
        {
          "name": "stderr",
          "output_type": "stream",
          "text": [
            "/var/folders/jg/r60w3sys1539n6tc4gg33dnw0000gn/T/ipykernel_81277/381342782.py:63: SettingWithCopyWarning: \n",
            "A value is trying to be set on a copy of a slice from a DataFrame.\n",
            "Try using .loc[row_indexer,col_indexer] = value instead\n",
            "\n",
            "See the caveats in the documentation: https://pandas.pydata.org/pandas-docs/stable/user_guide/indexing.html#returning-a-view-versus-a-copy\n",
            "  df_view['Money'] = df_view['Money'].apply(\"{0:,.2f}\".format)\n"
          ]
        }
      ],
      "source": [
        "d = Intraday(symbol='HDG')\n",
        "d.LoadData()\n",
        "df = d.FindShark()\n",
        "print(df)\n",
        "#d.Draw_Chart_Sticks()\n",
        "#d.ExplainTalk()"
      ]
    },
    {
      "cell_type": "code",
      "execution_count": null,
      "metadata": {},
      "outputs": [],
      "source": [
        "#from datetime import time\n",
        "from time import sleep\n",
        "\n",
        "\n",
        "stocks = ['VND','TPB','FRT']\n",
        "for symbol in stocks:\n",
        "    d = Intraday(symbol=symbol)\n",
        "    d.LoadData()\n",
        "    d.Draw_Chart_Sticks()\n",
        "    d.ExplainTalk()\n",
        "    sleep(3)"
      ]
    },
    {
      "cell_type": "markdown",
      "metadata": {
        "id": "dz9QVTxAbgd3"
      },
      "source": [
        "**FIRST LOOK**\n",
        "\n",
        "Có 02 bảng dữ liệu:\n",
        "1. Bảng liệt kê các mức giá của dữ liệu với khối lượng lệnh và tỷ trọng phần trăm\n",
        "2. Bảng chi tiết từng stick lệnh\n",
        "\n",
        "Như vậy ta tách thành 02 bộ dữ liệu:\n",
        "data_sticks : Là danh sách từng lệnh chi tiết\n",
        "data_prices : Là dữ liệu về từng mức giá"
      ]
    },
    {
      "cell_type": "markdown",
      "metadata": {
        "id": "F5ZNJSp0fyHa"
      },
      "source": [
        "PHÂN TÍCH STICKS LỆNH\n",
        "\n",
        "1. Thời gian đã được sắp xếp theo thứ tự chưa ?\n",
        "2. Liệt kê các lệnh có khối lượng lớn\n"
      ]
    },
    {
      "cell_type": "markdown",
      "metadata": {
        "id": "YgDJwIgkqLP_"
      },
      "source": [
        "KHAI PHÁ DỮ LIỆU\n",
        "\n",
        "\n",
        "\n",
        "1.   Có bao nhiêu lệnh lớn xuất hiện ?\n",
        "- Lệnh lớn: Là lệnh mà có giá trị giao dịch chiếm khoảng 1% tổng giá trị giao dịch trong ngày (hoặc ta có thể định nghĩa khác\n",
        "2.   List item\n",
        "\n"
      ]
    },
    {
      "cell_type": "markdown",
      "metadata": {
        "id": "lz4uMn-5slHF"
      },
      "source": []
    }
  ],
  "metadata": {
    "colab": {
      "collapsed_sections": [],
      "name": "Intraday-CafeF.ipynb",
      "provenance": []
    },
    "kernelspec": {
      "display_name": "Python 3.10.0 64-bit",
      "language": "python",
      "name": "python3"
    },
    "language_info": {
      "codemirror_mode": {
        "name": "ipython",
        "version": 3
      },
      "file_extension": ".py",
      "mimetype": "text/x-python",
      "name": "python",
      "nbconvert_exporter": "python",
      "pygments_lexer": "ipython3",
      "version": "3.10.1"
    },
    "vscode": {
      "interpreter": {
        "hash": "aee8b7b246df8f9039afb4144a1f6fd8d2ca17a180786b69acc140d282b71a49"
      }
    }
  },
  "nbformat": 4,
  "nbformat_minor": 0
}
