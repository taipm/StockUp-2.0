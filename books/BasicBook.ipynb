{
 "cells": [
  {
   "cell_type": "code",
   "execution_count": null,
   "metadata": {},
   "outputs": [],
   "source": [
    "BUY_FEE = 0.1/100\n",
    "SELL_FEE = 0.1/100\n",
    "SELL_TAX = 0.1/100\n"
   ]
  },
  {
   "cell_type": "code",
   "execution_count": null,
   "metadata": {},
   "outputs": [],
   "source": [
    "def getTrueProfit(buy_price, sell_price):\n",
    "    default_volume = 1\n",
    "\n",
    "    sumOf_BuyMoney = default_volume*buy_price\n",
    "    sumOf_BuyFee = sumOf_BuyMoney*BUY_FEE\n",
    "    sumOf_TotalMoney = sumOf_BuyMoney + sumOf_BuyFee\n",
    "    avg_buy_price = sumOf_TotalMoney/default_volume\n",
    "\n",
    "    sumOf_SellMoney = default_volume*sell_price\n",
    "    sumOf_SellFee = sumOf_SellMoney*SELL_FEE\n",
    "    sumOf_SellTax = sumOf_SellFee*SELL_TAX\n",
    "    sumOf_FinalSell = sumOf_SellMoney - sumOf_SellFee - sumOf_SellTax\n",
    "    avg_sell_price = sumOf_FinalSell/default_volume\n",
    "\n",
    "    percent_profit = ((avg_sell_price-avg_buy_price)/avg_buy_price)*100\n",
    "    return percent_profit\n",
    "\n",
    "\n",
    "profit = getTrueProfit(buy_price=17.8,sell_price=17.6)\n",
    "print(profit)\n"
   ]
  }
 ],
 "metadata": {
  "language_info": {
   "name": "python"
  },
  "orig_nbformat": 4
 },
 "nbformat": 4,
 "nbformat_minor": 2
}
