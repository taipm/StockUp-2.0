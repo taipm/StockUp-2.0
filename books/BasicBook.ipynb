{
 "cells": [
  {
   "cell_type": "code",
   "execution_count": 1,
   "metadata": {},
   "outputs": [],
   "source": [
    "BUY_FEE = 0.1/100\n",
    "SELL_FEE = 0.1/100\n",
    "SELL_TAX = 0.1/100\n"
   ]
  },
  {
   "cell_type": "code",
   "execution_count": 2,
   "metadata": {},
   "outputs": [
    {
     "name": "stdout",
     "output_type": "stream",
     "text": [
      "-1.3212495369798833\n"
     ]
    }
   ],
   "source": [
    "def getTrueProfit(buy_price, sell_price):\n",
    "    default_volume = 1\n",
    "\n",
    "    sumOf_BuyMoney = default_volume*buy_price\n",
    "    sumOf_BuyFee = sumOf_BuyMoney*BUY_FEE\n",
    "    sumOf_TotalMoney = sumOf_BuyMoney + sumOf_BuyFee\n",
    "    avg_buy_price = sumOf_TotalMoney/default_volume\n",
    "\n",
    "    sumOf_SellMoney = default_volume*sell_price\n",
    "    sumOf_SellFee = sumOf_SellMoney*SELL_FEE\n",
    "    sumOf_SellTax = sumOf_SellFee*SELL_TAX\n",
    "    sumOf_FinalSell = sumOf_SellMoney - sumOf_SellFee - sumOf_SellTax\n",
    "    avg_sell_price = sumOf_FinalSell/default_volume\n",
    "\n",
    "    percent_profit = ((avg_sell_price-avg_buy_price)/avg_buy_price)*100\n",
    "    return percent_profit\n",
    "\n",
    "\n",
    "profit = getTrueProfit(buy_price=17.8,sell_price=17.6)\n",
    "print(profit)\n"
   ]
  }
 ],
 "metadata": {
  "kernelspec": {
   "display_name": "Python 3.10.1 64-bit",
   "language": "python",
   "name": "python3"
  },
  "language_info": {
   "codemirror_mode": {
    "name": "ipython",
    "version": 3
   },
   "file_extension": ".py",
   "mimetype": "text/x-python",
   "name": "python",
   "nbconvert_exporter": "python",
   "pygments_lexer": "ipython3",
   "version": "3.10.1"
  },
  "orig_nbformat": 4,
  "vscode": {
   "interpreter": {
    "hash": "aee8b7b246df8f9039afb4144a1f6fd8d2ca17a180786b69acc140d282b71a49"
   }
  }
 },
 "nbformat": 4,
 "nbformat_minor": 2
}
